{
 "cells": [
  {
   "cell_type": "markdown",
   "id": "82343892",
   "metadata": {},
   "source": [
    "# Projeto de Destoxificação com Sentence Transformers\n",
    "Este notebook carrega embeddings de texto previamente salvos, calcula centróides por classe de toxicidade, e aplica transformações vetoriais para encontrar versões destoxificadas dos textos."
   ]
  },
  {
   "cell_type": "code",
   "execution_count": 1,
   "id": "4dce0608",
   "metadata": {},
   "outputs": [],
   "source": [
    "import pandas as pd\n",
    "import numpy as np\n",
    "import ast\n",
    "from tqdm import tqdm\n",
    "from sentence_transformers import SentenceTransformer\n",
    "from sklearn.metrics.pairwise import cosine_similarity\n",
    "import matplotlib.pyplot as plt\n",
    "\n",
    "# Carregar o CSV com embeddings salvos\n",
    "df = pd.read_csv(\"../data/train_embedded.csv\")\n",
    "\n",
    "# Converter coluna de string para vetor\n",
    "df[\"embedding\"] = df[\"embedding\"].apply(ast.literal_eval)"
   ]
  },
  {
   "cell_type": "code",
   "execution_count": 2,
   "id": "c6da2bc4",
   "metadata": {},
   "outputs": [],
   "source": [
    "# Definir rótulos de toxicidade\n",
    "toxic_labels = [\"toxic\", \"severe_toxic\", \"obscene\", \"threat\", \"insult\", \"identity_hate\"]\n",
    "\n",
    "# Filtrar subset não tóxico\n",
    "non_toxic_subset = df[df[toxic_labels].sum(axis=1) == 0]"
   ]
  },
  {
   "cell_type": "code",
   "execution_count": 3,
   "id": "71d8bde1",
   "metadata": {},
   "outputs": [],
   "source": [
    "# Calcular vetores médios por classe tóxica\n",
    "centroids = {}\n",
    "\n",
    "for label in toxic_labels:\n",
    "    subset = df[df[label] == 1.0]\n",
    "    if not subset.empty:\n",
    "        embeddings = np.vstack(subset[\"embedding\"].values)\n",
    "        centroids[label] = np.mean(embeddings, axis=0)\n",
    "\n",
    "# Calcular centroide de textos não tóxicos\n",
    "non_toxic_embeddings = np.vstack(non_toxic_subset[\"embedding\"].values)\n",
    "centroids[\"non_toxic\"] = np.mean(non_toxic_embeddings, axis=0)"
   ]
  },
  {
   "cell_type": "code",
   "execution_count": 14,
   "id": "1d8e8bf9",
   "metadata": {},
   "outputs": [],
   "source": [
    "# Selecionar um comentário tóxico\n",
    "example_row = df[df[\"obscene\"] == 1.0].iloc[0]\n",
    "v_tox = example_row[\"embedding\"]\n",
    "original_text = example_row[\"comment_text\"]\n",
    "\n",
    "# Aplicar deslocamento vetorial\n",
    "v_med_tox = centroids[\"obscene\"]\n",
    "v_med_nontox = centroids[\"non_toxic\"]\n",
    "v_destox = v_tox + (v_med_nontox - v_med_tox)"
   ]
  },
  {
   "cell_type": "code",
   "execution_count": 12,
   "id": "9992e492",
   "metadata": {},
   "outputs": [
    {
     "name": "stdout",
     "output_type": "stream",
     "text": [
      "🧪 Texto original (tóxico):\n",
      "cock  suck before you piss around on my work\n",
      "\n",
      "🔄 Texto mais próximo do vetor destoxificado:\n",
      "dont care  leave me alone  shit head  you have better things to do and let me do my work alone \n"
     ]
    }
   ],
   "source": [
    "# Preparar vetores e textos não tóxicos\n",
    "non_toxic_texts = non_toxic_subset[\"comment_text\"].tolist()\n",
    "non_toxic_vectors = np.vstack(non_toxic_subset[\"embedding\"].values)\n",
    "\n",
    "# Calcular similaridade e buscar o mais próximo\n",
    "sims = cosine_similarity([v_destox], non_toxic_vectors)[0]\n",
    "top_idx = np.argmax(sims)\n",
    "\n",
    "# Exibir resultados\n",
    "print(\"🧪 Texto original (tóxico):\")\n",
    "print(original_text)\n",
    "\n",
    "print(\"\\n🔄 Texto mais próximo do vetor destoxificado:\")\n",
    "print(non_toxic_texts[top_idx])"
   ]
  }
 ],
 "metadata": {
  "kernelspec": {
   "display_name": "ml",
   "language": "python",
   "name": "python3"
  },
  "language_info": {
   "codemirror_mode": {
    "name": "ipython",
    "version": 3
   },
   "file_extension": ".py",
   "mimetype": "text/x-python",
   "name": "python",
   "nbconvert_exporter": "python",
   "pygments_lexer": "ipython3",
   "version": "3.12.9"
  }
 },
 "nbformat": 4,
 "nbformat_minor": 5
}
